{
 "cells": [
  {
   "cell_type": "code",
   "execution_count": null,
   "metadata": {
    "ExecuteTime": {
     "end_time": "2024-04-19T15:39:43.377015Z",
     "start_time": "2024-04-19T15:39:39.926042Z"
    }
   },
   "outputs": [],
   "source": [
    "import numpy as np\n",
    "import matplotlib.pyplot as plt\n",
    "import pandas as pd\n",
    "import plotly.express as px\n",
    "import os"
   ]
  },
  {
   "cell_type": "code",
   "execution_count": null,
   "metadata": {},
   "outputs": [],
   "source": [
    "# get appdata path to this path on any commputer: \"C:/Users/Domodekavkaz/AppData/Roaming/Holovibes/12.10.0/benchmark/\n",
    "appdata = os.getenv('APPDATA')\n",
    "path = appdata + \"/Holovibes/12.10.0/benchmark/\"\n",
    "print(path)"
   ]
  },
  {
   "cell_type": "code",
   "execution_count": null,
   "metadata": {},
   "outputs": [],
   "source": [
    "path += \"benchmark_2024-04-25_10h52-36.csv\""
   ]
  },
  {
   "cell_type": "code",
   "execution_count": null,
   "metadata": {
    "ExecuteTime": {
     "end_time": "2024-04-19T16:40:47.096782Z",
     "start_time": "2024-04-19T16:40:47.081780Z"
    }
   },
   "outputs": [],
   "source": [
    "df = pd.read_csv(path, header=1)"
   ]
  },
  {
   "cell_type": "code",
   "execution_count": null,
   "metadata": {
    "ExecuteTime": {
     "end_time": "2024-04-19T16:40:47.288356Z",
     "start_time": "2024-04-19T16:40:47.279354Z"
    }
   },
   "outputs": [],
   "source": [
    "# print the list of columns\n",
    "print(df.columns)"
   ]
  },
  {
   "cell_type": "code",
   "execution_count": null,
   "metadata": {
    "ExecuteTime": {
     "end_time": "2024-04-19T16:40:47.512408Z",
     "start_time": "2024-04-19T16:40:47.505406Z"
    }
   },
   "outputs": [],
   "source": [
    "# Afficher les premières lignes du DataFrame\n",
    "print(df.head())\n",
    "\n",
    "# Extraire les métadonnées du fichier CSV\n",
    "with open(path, 'r') as file:\n",
    "    first_line = file.readline()\n",
    "    metadata = first_line.split(',')\n",
    "\n",
    "print(\"Métadonnées :\")\n",
    "for meta in metadata:\n",
    "    print(meta)\n"
   ]
  },
  {
   "cell_type": "code",
   "execution_count": null,
   "metadata": {
    "ExecuteTime": {
     "end_time": "2024-04-19T16:40:53.216603Z",
     "start_time": "2024-04-19T16:40:53.212601Z"
    },
    "collapsed": false
   },
   "outputs": [],
   "source": [
    "# make a dictionary of the metadata, for each element of metadata separated into two part from ': ', the key is the first part, and the value is the second part\n",
    "\n",
    "metadata_dict = {}\n",
    "for meta in metadata:\n",
    "    key, value = meta.split(': ')\n",
    "    metadata_dict[key] = value"
   ]
  },
  {
   "cell_type": "code",
   "execution_count": null,
   "metadata": {
    "ExecuteTime": {
     "end_time": "2024-04-19T16:40:56.225975Z",
     "start_time": "2024-04-19T16:40:56.212980Z"
    }
   },
   "outputs": [],
   "source": [
    "# print the list of columns\n",
    "print(df.index)"
   ]
  },
  {
   "cell_type": "code",
   "execution_count": null,
   "metadata": {
    "ExecuteTime": {
     "end_time": "2024-04-19T16:41:53.285194Z",
     "start_time": "2024-04-19T16:41:53.211177Z"
    }
   },
   "outputs": [],
   "source": [
    "# use plotly to create a line chart that has each \"Queue\" column as a line, and the x-axis is the length of the index\n",
    "fig = px.line(df, x=range(len(df)), y=['Input Queue', 'Output Queue', 'Record Queue'])\n",
    "# add à horizontal blue line at the level of the \"GPU input queue size\" metadata\n",
    "fig.add_hline(y=int(metadata_dict['GPU Input Queue size']), line_dash=\"dot\", line_color=\"blue\", annotation_text=\"GPU input queue size\", annotation_position=\"bottom right\")\n",
    "# add à horizontal red line at the level of the \"GPU output queue size\" metadata\n",
    "fig.add_hline(y=int(metadata_dict['GPU Output Queue size']), line_dash=\"dot\", line_color=\"red\", annotation_text=\"GPU output queue size\", annotation_position=\"bottom right\")\n",
    "# add à horizontal green line at the level of the \"GPU record queue size\" metadata\n",
    "fig.add_hline(y=int(metadata_dict['CPU Record Queue size']), line_dash=\"dot\", line_color=\"green\", annotation_text=\"CPU record queue size\", annotation_position=\"bottom right\")\n",
    "\n",
    "fig.show()"
   ]
  },
  {
   "cell_type": "code",
   "execution_count": null,
   "metadata": {},
   "outputs": [],
   "source": [
    "# use plotly to create a line chart that has each \"FPS\" column as a line, and the x-axis is the length of the index\n",
    "fig = px.line(df, x=range(len(df)), y=['Output FPS'])\n",
    "# add à horizontal blue line at the level of the \"Input FPS\" first value\n",
    "fig.add_hline(y=df['Input FPS'][20], line_dash=\"dot\", line_color=\"blue\", annotation_text=\"Input FPS\", annotation_position=\"bottom right\")\n",
    "\n",
    "fig.show()\n"
   ]
  },
  {
   "cell_type": "code",
   "execution_count": null,
   "metadata": {},
   "outputs": [],
   "source": [
    "# use plotly to create a line chart that has each \"Throughput\" column as a line, and the x-axis is the length of the index\n",
    "fig = px.line(df, x=range(len(df)), y=['Input Throughput', 'Output Throughput'])\n",
    "\n",
    "fig.show()\n"
   ]
  },
  {
   "cell_type": "code",
   "execution_count": null,
   "metadata": {},
   "outputs": [],
   "source": [
    "# Create a line chart with each \"GPU\" column as a line\n",
    "fig = px.line(df, x=range(len(df)), y=['GPU load', 'GPU memory load'])\n",
    "\n",
    "# Add a line with the division of the GPU Load by the GPU Memory Load\n",
    "fig.add_trace(px.line(df, x=range(len(df)), y=((df['GPU memory total'] - df['GPU memory free'])/df['GPU memory total']) * 100).data[0])\n",
    "\n",
    "# Update the name of the added trace\n",
    "fig.data[-1].name = 'GPU Memory division'\n",
    "\n",
    "# Change the color of the added line to purple\n",
    "fig.update_traces(line_color='purple', selector=dict(name='GPU Memory division'))\n",
    "\n",
    "# Show the plot\n",
    "fig.show()"
   ]
  }
 ],
 "metadata": {
  "kernelspec": {
   "display_name": "plot_venv",
   "language": "python",
   "name": "python3"
  },
  "language_info": {
   "codemirror_mode": {
    "name": "ipython",
    "version": 3
   },
   "file_extension": ".py",
   "mimetype": "text/x-python",
   "name": "python",
   "nbconvert_exporter": "python",
   "pygments_lexer": "ipython3",
   "version": "3.12.3"
  }
 },
 "nbformat": 4,
 "nbformat_minor": 2
}
