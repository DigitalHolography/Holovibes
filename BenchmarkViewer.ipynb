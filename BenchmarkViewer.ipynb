{
 "cells": [
  {
   "cell_type": "code",
   "execution_count": null,
   "metadata": {
    "ExecuteTime": {
     "end_time": "2024-04-19T15:39:43.377015Z",
     "start_time": "2024-04-19T15:39:39.926042Z"
    }
   },
   "outputs": [
    {
     "ename": "",
     "evalue": "",
     "output_type": "error",
     "traceback": [
      "\u001b[1;31mFailed to start the Kernel. \n",
      "\u001b[1;31mUnable to start Kernel 'math (Python 3.12.3)' due to a connection timeout. \n",
      "\u001b[1;31mView Jupyter <a href='command:jupyter.viewOutput'>log</a> for further details."
     ]
    }
   ],
   "source": [
    "import numpy as np\n",
    "import matplotlib.pyplot as plt\n",
    "import pandas as pd\n",
    "import plotly.express as px"
   ]
  },
  {
   "cell_type": "code",
   "execution_count": null,
   "metadata": {
    "ExecuteTime": {
     "end_time": "2024-04-19T16:40:47.096782Z",
     "start_time": "2024-04-19T16:40:47.081780Z"
    }
   },
   "outputs": [],
   "source": [
    "df = pd.read_csv(\"C:\\Users\\Domodekavkaz\\AppData\\Roaming\\Holovibes\\12.10.0\\benchmark\\benchmark_2024-04-22_11h14-07.csv\", header=1)"
   ]
  },
  {
   "cell_type": "code",
   "execution_count": null,
   "metadata": {
    "ExecuteTime": {
     "end_time": "2024-04-19T16:40:47.288356Z",
     "start_time": "2024-04-19T16:40:47.279354Z"
    }
   },
   "outputs": [],
   "source": [
    "# print the list of columns\n",
    "print(df.columns)"
   ]
  },
  {
   "cell_type": "code",
   "execution_count": null,
   "metadata": {
    "ExecuteTime": {
     "end_time": "2024-04-19T16:40:47.512408Z",
     "start_time": "2024-04-19T16:40:47.505406Z"
    }
   },
   "outputs": [],
   "source": [
    "# Afficher les premières lignes du DataFrame\n",
    "print(df.head())\n",
    "\n",
    "# Extraire les métadonnées du fichier CSV\n",
    "with open('kek4_1.csv', 'r') as file:\n",
    "    first_line = file.readline()\n",
    "    metadata = first_line.split(',')\n",
    "\n",
    "print(\"Métadonnées :\")\n",
    "for meta in metadata:\n",
    "    print(meta)\n"
   ]
  },
  {
   "cell_type": "code",
   "execution_count": null,
   "metadata": {
    "ExecuteTime": {
     "end_time": "2024-04-19T16:40:53.216603Z",
     "start_time": "2024-04-19T16:40:53.212601Z"
    },
    "collapsed": false
   },
   "outputs": [],
   "source": [
    "# make a dictionary of the metadata, for each element of metadata separated into two part from ': ', the key is the first part, and the value is the second part\n",
    "\n",
    "metadata_dict = {}\n",
    "for meta in metadata:\n",
    "    key, value = meta.split(': ')\n",
    "    metadata_dict[key] = value"
   ]
  },
  {
   "cell_type": "code",
   "execution_count": null,
   "metadata": {
    "ExecuteTime": {
     "end_time": "2024-04-19T16:40:56.225975Z",
     "start_time": "2024-04-19T16:40:56.212980Z"
    }
   },
   "outputs": [],
   "source": [
    "# print the list of columns\n",
    "print(df.index)"
   ]
  },
  {
   "cell_type": "code",
   "execution_count": null,
   "metadata": {
    "ExecuteTime": {
     "end_time": "2024-04-19T16:41:53.285194Z",
     "start_time": "2024-04-19T16:41:53.211177Z"
    }
   },
   "outputs": [],
   "source": [
    "import plotly.express as px\n",
    "\n",
    "# use plotly to create a line chart that has each \"Queue\" column as a line, and the x-axis is the length of the index\n",
    "fig = px.line(df, x=range(len(df)), y=['Input Queue', 'Output Queue', 'Record Queue'])\n",
    "# add à horizontal blue line at the level of the \"GPU input queue size\" metadata\n",
    "fig.add_hline(y=int(metadata_dict['GPU Input Queue size']), line_dash=\"dot\", line_color=\"blue\", annotation_text=\"GPU input queue size\", annotation_position=\"bottom right\")\n",
    "# add à horizontal red line at the level of the \"GPU output queue size\" metadata\n",
    "fig.add_hline(y=int(metadata_dict['GPU Output Queue size']), line_dash=\"dot\", line_color=\"red\", annotation_text=\"GPU output queue size\", annotation_position=\"bottom right\")\n",
    "# add à horizontal green line at the level of the \"GPU record queue size\" metadata\n",
    "fig.add_hline(y=int(metadata_dict['CPU Record Queue size']), line_dash=\"dot\", line_color=\"green\", annotation_text=\"CPU record queue size\", annotation_position=\"bottom right\")\n",
    "\n",
    "fig.show()"
   ]
  }
 ],
 "metadata": {
  "kernelspec": {
   "display_name": "plot_venv",
   "language": "python",
   "name": "python3"
  },
  "language_info": {
   "codemirror_mode": {
    "name": "ipython",
    "version": 3
   },
   "file_extension": ".py",
   "mimetype": "text/x-python",
   "name": "python",
   "nbconvert_exporter": "python",
   "pygments_lexer": "ipython3",
   "version": "3.12.3"
  }
 },
 "nbformat": 4,
 "nbformat_minor": 2
}
